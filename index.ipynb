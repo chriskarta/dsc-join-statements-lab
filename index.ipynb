{
 "cells": [
  {
   "cell_type": "markdown",
   "metadata": {},
   "source": [
    "# Join Statements - Lab\n",
    "\n",
    "## Introduction\n",
    "\n",
    "In this lab, you'll practice your knowledge of `JOIN` statements, using various types of joins and various methods for specifying the links between them.\n",
    "\n",
    "## Objectives\n",
    "\n",
    "You will be able to:\n",
    "\n",
    "* Write SQL queries that make use of various types of joins\n",
    "* Compare and contrast the various types of joins\n",
    "* Discuss how primary and foreign keys are used in SQL\n",
    "* Decide and perform whichever type of join is best for retrieving desired data"
   ]
  },
  {
   "cell_type": "markdown",
   "metadata": {},
   "source": [
    "## CRM ERD\n",
    "\n",
    "In this lab, you'll use the same customer relationship management (CRM) database that you saw from the previous lesson.\n",
    "<img src='https://curriculum-content.s3.amazonaws.com/data-science/images/Database-Schema.png' width=\"600\">"
   ]
  },
  {
   "cell_type": "markdown",
   "metadata": {},
   "source": [
    "## Connecting to the Database\n",
    "Import the necessary packages and connect to the database `'data.sqlite'`."
   ]
  },
  {
   "cell_type": "code",
   "execution_count": null,
   "metadata": {},
   "outputs": [],
   "source": [
    "# Your code here\n",
    "\n",
    "import pandas as pd\n",
    "import sqlite3\n",
    "conn = sqlite3.connect('data.sqlite')"
   ]
  },
  {
   "cell_type": "markdown",
   "metadata": {},
   "source": [
    "## Select the names of all employees in Boston \n",
    "\n",
    "Hint: join the employees and offices tables. Select the first and last name."
   ]
  },
  {
   "cell_type": "code",
   "execution_count": null,
   "metadata": {},
   "outputs": [],
   "source": [
    "# Your code here\n",
    "\n",
    "q = '''\n",
    "SELECT employees.firstName, employees.lastName\n",
    "FROM employees \n",
    "JOIN offices\n",
    "USING (officeCode)\n",
    "WHERE city = 'Boston';\n",
    " '''\n",
    "pd.read_sql(q, conn)"
   ]
  },
  {
   "cell_type": "markdown",
   "metadata": {},
   "source": [
    "## Are there any offices that have zero employees?\n",
    "Hint: Combine the employees and offices tables and use a group by. Select the office code, city, and number of employees."
   ]
  },
  {
   "cell_type": "code",
   "execution_count": null,
   "metadata": {},
   "outputs": [],
   "source": [
    "# Your code here\n",
    "\n",
    "q = '''\n",
    "SELECT offices.officeCode, city, COUNT(employees.employeeNumber) AS num_employees\n",
    "FROM offices\n",
    "LEFT JOIN employees ON offices.officeCode = employees.officeCode\n",
    "GROUP BY offices.officeCode, offices.city\n",
    "HAVING COUNT(employees.employeeNumber) = 0;\n",
    "'''\n",
    "pd.read_sql(q, conn)"
   ]
  },
  {
   "cell_type": "markdown",
   "metadata": {},
   "source": [
    "## Write 3 questions of your own and answer them"
   ]
  },
  {
   "cell_type": "code",
   "execution_count": null,
   "metadata": {},
   "outputs": [],
   "source": [
    "# Answers will vary\n",
    "\n",
    "# Example question: \n",
    "\"\"\"\n",
    "How many customers are there per office?\n",
    "\"\"\""
   ]
  },
  {
   "cell_type": "code",
   "execution_count": null,
   "metadata": {},
   "outputs": [],
   "source": [
    "\"\"\"\n",
    "How many customers made orders from Boston?\n",
    "\"\"\"\n",
    "\n",
    "# Your code here\n",
    "\n",
    "q = \"\"\"\n",
    "SELECT COUNT(DISTINCT orders.customerNumber) AS num_customers_who_made_orders\n",
    "FROM customers\n",
    "RIGHT JOIN orders ON customers.customerNumber = orders.customerNumber;\n",
    "\"\"\"\n",
    "pd.read_sql(q, conn)"
   ]
  },
  {
   "cell_type": "code",
   "execution_count": null,
   "metadata": {},
   "outputs": [],
   "source": [
    "\"\"\"\n",
    "How many Customers made payments in Boston?\n",
    "\"\"\"\n",
    "\n",
    "# Your code here\n",
    "\n",
    "q = \"\"\"\n",
    "SELECT COUNT(DISTINCT payments.customerNumber) AS num_customers_who_paid\n",
    "FROM customers\n",
    "LEFT JOIN payments ON customers.customerNumber = payments.customerNumber\n",
    "WHERE customers.city = 'Boston';\n",
    "\"\"\"\n",
    "pd.read_sql(q, conn)"
   ]
  },
  {
   "cell_type": "markdown",
   "metadata": {},
   "source": [
    "## Level Up 1: Display the names of every individual product that each employee has sold\n",
    "\n",
    "Hint: You will need to use multiple `JOIN` clauses to connect all the way from employee names to product names."
   ]
  },
  {
   "cell_type": "code",
   "execution_count": null,
   "metadata": {},
   "outputs": [],
   "source": [
    "# Your code here\n",
    "\n",
    "q = \"\"\"\n",
    "SELECT e.firstName, e.lastName, p.productName\n",
    "FROM employees AS e\n",
    "JOIN customers AS c ON e.firstName = c.contactFirstName\n",
    "JOIN orders AS o ON c.customerNumber = o.customerNumber\n",
    "JOIN orderdetails AS od ON o.orderNumber = od.orderNumber\n",
    "JOIN products AS p ON od.productCode = p.productCode\n",
    "ORDER BY e.firstName, p.productName;\n",
    "\"\"\"\n",
    "pd.read_sql(q, conn)"
   ]
  },
  {
   "cell_type": "markdown",
   "metadata": {},
   "source": [
    "## Level Up 2: Display the number of products each employee has sold\n",
    "\n",
    "Alphabetize the results by employee last name.\n",
    "\n",
    "Hint: Use the `quantityOrdered` column from `orderDetails`. Also, think about how to group the data when some employees might have the same first or last name."
   ]
  },
  {
   "cell_type": "code",
   "execution_count": null,
   "metadata": {},
   "outputs": [],
   "source": [
    "# Your code here\n",
    "\n",
    "q = \"\"\"\n",
    "SELECT e.firstName, e.lastName, SUM(od.quantityOrdered) AS num_of_products_sold\n",
    "FROM employees AS e\n",
    "JOIN customers AS c ON e.firstName = c.contactFirstName\n",
    "JOIN orders AS o ON c.customerNumber = o.customerNumber\n",
    "JOIN orderdetails AS od ON o.orderNumber = od.orderNumber\n",
    "JOIN products AS p ON od.productCode = p.productCode\n",
    "GROUP BY e.firstName, e.lastName\n",
    "ORDER BY e.firstName, num_of_products_sold;\n",
    "\"\"\"\n",
    "pd.read_sql(q, conn)"
   ]
  },
  {
   "cell_type": "markdown",
   "metadata": {},
   "source": [
    "## Level Up 3: Display the names employees who have sold more than 200 different products\n",
    "\n",
    "Hint: this is different from the previous question because the quantity sold doesn't matter, only the number of different products"
   ]
  },
  {
   "cell_type": "code",
   "execution_count": null,
   "metadata": {},
   "outputs": [],
   "source": [
    "# Your code here\n",
    "\n",
    "q = \"\"\"\n",
    "SELECT e.firstName, e.lastName, COUNT(DISTINCT p.productCode) AS unique_products_sold\n",
    "FROM employees AS e\n",
    "JOIN customers AS c ON e.firstName = c.contactFirstName\n",
    "JOIN orders AS o ON c.customerNumber = o.customerNumber\n",
    "JOIN orderdetails AS od ON o.orderNumber = od.orderNumber\n",
    "JOIN products AS p ON od.productCode = p.productCode\n",
    "GROUP BY e.firstName, e.lastName\n",
    "HAVING COUNT (DISTINCT p.productCode) > 200\n",
    "ORDER BY e.lastName;\n",
    "\"\"\"\n",
    "pd.read_sql(q, conn)"
   ]
  },
  {
   "cell_type": "markdown",
   "metadata": {},
   "source": [
    "## Summary"
   ]
  },
  {
   "cell_type": "markdown",
   "metadata": {},
   "source": [
    "Congrats! You practiced using join statements and leveraged your foreign keys knowledge!"
   ]
  }
 ],
 "metadata": {
  "kernelspec": {
   "display_name": "Pyhton (learn-env)",
   "language": "python",
   "name": "learn-env"
  },
  "language_info": {
   "codemirror_mode": {
    "name": "ipython",
    "version": 3
   },
   "file_extension": ".py",
   "mimetype": "text/x-python",
   "name": "python",
   "nbconvert_exporter": "python",
   "pygments_lexer": "ipython3",
   "version": "3.12.7"
  },
  "toc": {
   "base_numbering": 1,
   "nav_menu": {},
   "number_sections": true,
   "sideBar": true,
   "skip_h1_title": false,
   "title_cell": "Table of Contents",
   "title_sidebar": "Contents",
   "toc_cell": false,
   "toc_position": {},
   "toc_section_display": true,
   "toc_window_display": false
  }
 },
 "nbformat": 4,
 "nbformat_minor": 4
}
